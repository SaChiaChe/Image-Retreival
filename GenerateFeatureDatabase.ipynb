{
 "cells": [
  {
   "cell_type": "markdown",
   "metadata": {},
   "source": [
    "# Image Feature Extraction (Feature Database Generation)"
   ]
  },
  {
   "cell_type": "code",
   "execution_count": 1,
   "metadata": {},
   "outputs": [],
   "source": [
    "import os\n",
    "import glob\n",
    "import cv2\n",
    "import numpy as np\n",
    "import matplotlib.pyplot as plt\n",
    "import pickle\n",
    "from utils import *\n",
    "from Features import *"
   ]
  },
  {
   "cell_type": "markdown",
   "metadata": {},
   "source": [
    "### Get the image database"
   ]
  },
  {
   "cell_type": "code",
   "execution_count": 2,
   "metadata": {
    "scrolled": true
   },
   "outputs": [],
   "source": [
    "DatabasePath = \"database\"\n",
    "Categories = [os.path.split(x)[-1] for x in glob.glob(os.path.join(DatabasePath, \"*\"))]\n",
    "ImagePaths = []\n",
    "for C in Categories:\n",
    "    ImagePaths.append(glob.glob(os.path.join(DatabasePath, C, \"*.jp*g\")))"
   ]
  },
  {
   "cell_type": "markdown",
   "metadata": {},
   "source": [
    "### Initialize Image Feature Database"
   ]
  },
  {
   "cell_type": "code",
   "execution_count": 3,
   "metadata": {},
   "outputs": [],
   "source": [
    "# Initialize with previous saved feature data base\n",
    "# print(\"Loading feature database ...\")\n",
    "# with open(\"FeatureDatabase.pkl\",\"rb\") as f:\n",
    "#     FeatureDatabase = pickle.load(f)\n",
    "# print()"
   ]
  },
  {
   "cell_type": "code",
   "execution_count": 4,
   "metadata": {},
   "outputs": [
    {
     "name": "stdout",
     "output_type": "stream",
     "text": [
      "Initializing feature database ...\n",
      "Total Categories: 30\n",
      "██████████████████████████████"
     ]
    }
   ],
   "source": [
    "# Initialize with empty feature database\n",
    "print(\"Initializing feature database ...\")\n",
    "FeatureDatabase = {}\n",
    "for C in Categories:\n",
    "    FeatureDatabase[C] = []\n",
    "\n",
    "print(\"Total Categories: %d\" % len(Categories))\n",
    "for C in range(len(Categories)):\n",
    "    CurCategory = Categories[C]\n",
    "    for I in ImagePaths[C]:\n",
    "        RawImage = LoadImage(I)\n",
    "        Gray = np.expand_dims(cv2.cvtColor(RawImage, cv2.COLOR_RGB2GRAY), axis=-1)\n",
    "        HSV = cv2.cvtColor(RawImage, cv2.COLOR_RGB2HSV)\n",
    "        YUV = cv2.cvtColor(RawImage, cv2.COLOR_RGB2YUV)\n",
    "        Lab = cv2.cvtColor(RawImage, cv2.COLOR_RGB2Lab)\n",
    "        CurImageDict = {}\n",
    "        CurImageDict['Path'] = I\n",
    "        CurImageDict['RGB Image'] = RawImage\n",
    "        CurImageDict['Gray Image'] = Gray\n",
    "        CurImageDict['HSV Image'] = HSV\n",
    "        CurImageDict['YUV Image'] = YUV\n",
    "        CurImageDict['Lab Image'] = Lab\n",
    "        CurImageDict['Gabor Images'] = GaborFilteredImages(Gray)\n",
    "        FeatureDatabase[CurCategory].append(CurImageDict)\n",
    "    print(\"█\", end='')\n",
    "print()\n",
    "print()"
   ]
  },
  {
   "cell_type": "markdown",
   "metadata": {},
   "source": [
    "### Add Image Features"
   ]
  },
  {
   "cell_type": "code",
   "execution_count": 5,
   "metadata": {
    "scrolled": false
   },
   "outputs": [
    {
     "name": "stdout",
     "output_type": "stream",
     "text": [
      "Adding image features ...\n",
      "Category 1/30: aloe_vera_gel\n",
      "████████████████████\n",
      "Category 2/30: baby_shoes\n",
      "████████████████████\n",
      "Category 3/30: bicycle\n",
      "███████████████████\n",
      "Category 4/30: bottle\n",
      "████████████████████\n",
      "Category 5/30: bracelet\n",
      "████████████████████\n",
      "Category 6/30: cartoon_purse\n",
      "████████████████████\n",
      "Category 7/30: chair\n",
      "████████████████████\n",
      "Category 8/30: children_dress\n",
      "████████████████████\n",
      "Category 9/30: clock\n",
      "████████████████████\n",
      "Category 10/30: cup\n",
      "████████████████████\n",
      "Category 11/30: drum\n",
      "████████████████████\n",
      "Category 12/30: garment\n",
      "████████████████████\n",
      "Category 13/30: gge_snack\n",
      "████████████████████\n",
      "Category 14/30: glasses\n",
      "████████████████████\n",
      "Category 15/30: goggles\n",
      "████████████████████\n",
      "Category 16/30: hand_cream\n",
      "████████████████████\n",
      "Category 17/30: ice_cream\n",
      "████████████████████\n",
      "Category 18/30: korean_snack\n",
      "████████████████████\n",
      "Category 19/30: leather_purse\n",
      "████████████████████\n",
      "Category 20/30: men_clothes\n",
      "████████████████████\n",
      "Category 21/30: minnie_dress\n",
      "████████████████████\n",
      "Category 22/30: minnie_shoes\n",
      "████████████████████\n",
      "Category 23/30: nba_jersey\n",
      "████████████████████\n",
      "Category 24/30: orange\n",
      "████████████████████\n",
      "Category 25/30: overalls\n",
      "████████████████████\n",
      "Category 26/30: skirt\n",
      "████████████████████\n",
      "Category 27/30: sprite\n",
      "████████████████████\n",
      "Category 28/30: tennis_ball\n",
      "████████████████████\n",
      "Category 29/30: trousers\n",
      "████████████████████\n",
      "Category 30/30: women_clothes\n",
      "████████████████████\n"
     ]
    }
   ],
   "source": [
    "print(\"Adding image features ...\")\n",
    "\n",
    "CatIter = 1\n",
    "TotalCatIter = len(Categories)\n",
    "for C in range(TotalCatIter):\n",
    "    CurCategory = Categories[C]\n",
    "    print(\"Category %d/%d: %s\" % (CatIter, TotalCatIter, CurCategory))\n",
    "    CatIter += 1\n",
    "    for I in FeatureDatabase[CurCategory]:\n",
    "        # Color Histograms\n",
    "        I[\"Global RGB Histogram\"] = GlobalColorHistogram(I['RGB Image'], n_bins=[4, 4, 4], ranges=[0, 256, 0, 256, 0, 256])\n",
    "        I[\"Local RGB Histogram\"] = LocalColorHistogram(I['RGB Image'], n_bins=[4, 4, 4], ranges=[0, 256, 0, 256, 0, 256])\n",
    "        I['Global Gray Histogram'] = GlobalColorHistogram(I['Gray Image'], channels=[0], n_bins=[32], ranges=[0, 256])\n",
    "        I['Local Gray Histogram'] = LocalColorHistogram(I['Gray Image'], channels=[0], n_bins=[32], ranges=[0, 256])\n",
    "        I['Global HSV Histogram'] = GlobalColorHistogram(I['HSV Image'], n_bins=[36, 2, 2], ranges=[0, 180, 0, 256, 0, 256])\n",
    "        I['Local HSV Histogram'] = LocalColorHistogram(I['HSV Image'], n_bins=[36, 2, 2], ranges=[0, 180, 0, 256, 0, 256])\n",
    "        I['Global YUV Histogram'] = GlobalColorHistogram(I['YUV Image'], n_bins=[32, 2, 2], ranges=[0, 256, 0, 256, 0, 256])\n",
    "        I['Local YUV Histogram'] = LocalColorHistogram(I['YUV Image'], n_bins=[32, 2, 2], ranges=[0, 256, 0, 256, 0, 256])  \n",
    "        I['Global Lab Histogram'] = GlobalColorHistogram(I['Lab Image'], n_bins=[32, 2, 2], ranges=[0, 256, 0, 256, 0, 256])\n",
    "        I['Local Lab Histogram'] = LocalColorHistogram(I['Lab Image'], n_bins=[32, 2, 2], ranges=[0, 256, 0, 256, 0, 256])  \n",
    "        \n",
    "        # Color Moments\n",
    "        I[\"Global RGB Moment\"] = GlobalColorMoment(I['RGB Image'])\n",
    "        I[\"Local RGB Moment\"] = LocalColorMoment(I['RGB Image'])\n",
    "        I['Global Gray Moment'] = GlobalColorMoment(I['Gray Image'], channels=[0])\n",
    "        I['Local Gray Moment'] = LocalColorMoment(I['Gray Image'], channels=[0])\n",
    "        I['Global HSV Moment'] = GlobalColorMoment(I['HSV Image'])\n",
    "        I['Local HSV Moment'] = LocalColorMoment(I['HSV Image'])\n",
    "        I['Global YUV Moment'] = GlobalColorMoment(I['YUV Image'])\n",
    "        I['Local YUV Moment'] = LocalColorMoment(I['YUV Image'])  \n",
    "        I['Global Lab Moment'] = GlobalColorMoment(I['Lab Image'])\n",
    "        I['Local Lab Moment'] = LocalColorMoment(I['Lab Image'])  \n",
    "        \n",
    "        # Color Auto-Correlogram\n",
    "        I[\"RGB Auto-Correlogram\"] = AutoCorrelogram(I['RGB Image'], n_bins=[4, 4, 4], ranges=[0, 256, 0, 256, 0, 256])\n",
    "        I[\"Gray Auto-Correlogram\"] = AutoCorrelogram(I['Gray Image'], channels=[0], n_bins=[32], ranges=[0, 256])\n",
    "        I[\"HSV Auto-Correlogram\"] = AutoCorrelogram(I['HSV Image'], n_bins=[16, 2, 2], ranges=[0, 180, 0, 256, 0, 256])\n",
    "        I[\"YUV Auto-Correlogram\"] = AutoCorrelogram(I['YUV Image'], n_bins=[16, 2, 2], ranges=[0, 256, 0, 256, 0, 256])\n",
    "        I[\"Lab Auto-Correlogram\"] = AutoCorrelogram(I['Lab Image'], n_bins=[16, 2, 2], ranges=[0, 256, 0, 256, 0, 256])\n",
    "    \n",
    "        # Gabor Feature\n",
    "        I['Gabor Features'] = ExtractGaborFeature(I['Gabor Images'])\n",
    "        I['Gabor Global Histogram'] = GaborGlobalHistogram(I['Gabor Images'])\n",
    "        I['Gabor Local Histogram'] = GaborLocalHistogram(I['Gabor Images'])\n",
    "        \n",
    "        # Local Binary Pattern\n",
    "        I['Local Binary Pattern'] = LocalBinaryPattern(I['Gray Image'])\n",
    "        I['Grid Local Binary Pattern'] = GridLocalBinaryPattern(I['Gray Image'])\n",
    "        \n",
    "        # Histogram of Oriented Gradients\n",
    "        I['HOG'] = HistogramofOrientedGradients(I['Gray Image'])\n",
    "        I['PHOG'] = PyramidHOG(I['Gray Image'])\n",
    "        \n",
    "        # Shape Index\n",
    "        I['Shape Index'] = ShapeIndex(I['Gray Image'])\n",
    "        \n",
    "        # SIFT\n",
    "        I['SIFT'] = GetSIFT(I['Gray Image'], limit=None)\n",
    "        I['SIFT Limited'] = GetSIFT(I['Gray Image'], limit=512)\n",
    "        I['Dense SIFT'] = GetDenseSIFT(I['Gray Image'])\n",
    "        I['Pyramid SIFT'] = GetPyramidSIFT(I['Gray Image'])\n",
    "        print(\"█\", end='')\n",
    "        \n",
    "    print()"
   ]
  },
  {
   "cell_type": "markdown",
   "metadata": {},
   "source": [
    "### Dump Feature Database"
   ]
  },
  {
   "cell_type": "code",
   "execution_count": 6,
   "metadata": {},
   "outputs": [],
   "source": [
    "with open(\"FeatureDatabase.pkl\",\"wb\") as f:\n",
    "    pickle.dump(FeatureDatabase, f)"
   ]
  }
 ],
 "metadata": {
  "kernelspec": {
   "display_name": "Python 3",
   "language": "python",
   "name": "python3"
  },
  "language_info": {
   "codemirror_mode": {
    "name": "ipython",
    "version": 3
   },
   "file_extension": ".py",
   "mimetype": "text/x-python",
   "name": "python",
   "nbconvert_exporter": "python",
   "pygments_lexer": "ipython3",
   "version": "3.7.3"
  }
 },
 "nbformat": 4,
 "nbformat_minor": 2
}
